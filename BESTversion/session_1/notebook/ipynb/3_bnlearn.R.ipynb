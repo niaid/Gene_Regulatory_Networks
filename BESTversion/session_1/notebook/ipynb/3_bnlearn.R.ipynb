{
 "cells": [
  {
   "cell_type": "code",
   "execution_count": null,
   "metadata": {},
   "outputs": [],
   "source": [
    "#install.packages(\"bnlearn\")\n",
    "library(bnlearn)\n",
    "library(igraph)"
   ]
  },
  {
   "cell_type": "code",
   "execution_count": null,
   "metadata": {},
   "outputs": [],
   "source": [
    "######## make a simple DAG\n",
    "dag = model2network(\"[A][S][E|A:S][O|E][R|E][T|O:R]\")"
   ]
  },
  {
   "cell_type": "code",
   "execution_count": null,
   "metadata": {},
   "outputs": [],
   "source": [
    "arc.set = matrix(c(\"A\", \"E\",\n",
    "                   \"S\", \"E\",\n",
    "                   \"E\", \"O\",\n",
    "                   \"E\", \"R\",\n",
    "                   \"O\", \"T\",\n",
    "                   \"R\", \"T\"),\n",
    "                 byrow = TRUE, ncol = 2,\n",
    "                 dimnames = list(NULL, c(\"from\", \"to\")))\n",
    "dag = empty.graph(c(\"A\", \"S\", \"E\", \"O\", \"R\", \"T\"))\n",
    "arcs(dag) = arc.set\n",
    "graphviz.plot(dag,shape = \"ellipse\")\n",
    "dag$nodes"
   ]
  },
  {
   "cell_type": "markdown",
   "metadata": {
    "lines_to_next_cell": 2
   },
   "source": [
    "plot(dag,shape = \"ellipse\")"
   ]
  },
  {
   "cell_type": "markdown",
   "metadata": {},
   "source": [
    "#########################################################\n",
    "## #write.csv(exprMat_filtered_log,\"/Users/zhuy16/GRN/Gene_Regulatory_Networks/data/exprMat_filtered_log.csv\")\n"
   ]
  },
  {
   "cell_type": "code",
   "execution_count": null,
   "metadata": {},
   "outputs": [],
   "source": [
    "getwd()\n",
    "exprMatRaw=read.csv(\"../data/3_BNLEARN/exprMat_filtered.csv\",row.names = 1,header = T)\n",
    "exprMatRaw=log(exprMat1+1)\n",
    "nrow(exprMatRaw)\n",
    "ncol(exprMatRaw)\n",
    "exprMat1=exprMatRaw[rowMeans(exprMatRaw)>1.2,]\n",
    "nrow(exprMat1)\n",
    "ncol(exprMat1)\n",
    "exprMat1[1:5,1:5]\n",
    "#BiocManager::install(\"Rgraphviz\")\n",
    "library(Rgraphviz)\n",
    "str(exprMat1)\n",
    "dag = hc(data.frame(t(exprMat1)))\n",
    "#dag = hc(data.frame(t(exprMat_filtered_log)))\n",
    "plot(dag)\n",
    "str(dag)"
   ]
  },
  {
   "cell_type": "code",
   "execution_count": null,
   "metadata": {},
   "outputs": [],
   "source": [
    "graphviz.plot(dag,layout=\"twopi\",shape = \"ellipse\")\n",
    "graphviz.plot(dag,layout=\"neato\",shape = \"ellipse\")\n",
    "graphviz.plot(dag,layout=\"dot\",shape = \"ellipse\")\n",
    "length(dag$arcs)"
   ]
  },
  {
   "cell_type": "code",
   "execution_count": null,
   "metadata": {},
   "outputs": [],
   "source": [
    "getwd()\n",
    "write.csv(dag$arcs,\"../data/3_BNLEARN/arcsInTheBayesNet.csv\")"
   ]
  },
  {
   "cell_type": "code",
   "execution_count": null,
   "metadata": {},
   "outputs": [],
   "source": [
    "dag$nodes[1:5]\n",
    "?graphviz.plot()"
   ]
  },
  {
   "cell_type": "code",
   "execution_count": null,
   "metadata": {
    "lines_to_next_cell": 2
   },
   "outputs": [],
   "source": [
    "dagn=dag$nodes\n",
    "class(dagn)\n",
    "length(dagn)\n",
    "dagn[[1]]$parents\n",
    "dagn[[1]]$children"
   ]
  }
 ],
 "metadata": {
  "jupytext": {
   "cell_metadata_filter": "-all",
   "notebook_metadata_filter": "-all",
   "text_representation": {
    "extension": ".R",
    "format_name": "light"
   }
  },
  "kernelspec": {
   "display_name": "R",
   "language": "R",
   "name": "ir"
  },
  "language_info": {
   "codemirror_mode": "r",
   "file_extension": ".r",
   "mimetype": "text/x-r-source",
   "name": "R",
   "pygments_lexer": "r",
   "version": "3.6.0"
  }
 },
 "nbformat": 4,
 "nbformat_minor": 4
}
