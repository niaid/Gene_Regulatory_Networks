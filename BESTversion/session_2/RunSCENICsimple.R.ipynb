{
 "cells": [
  {
   "cell_type": "code",
   "execution_count": null,
   "metadata": {},
   "outputs": [],
   "source": [
    "###########################################################\n",
    "########################### loading data\n",
    "stringsAsFactors = FALSE\n",
    "setwd(\"~/GRN/Gene_Regulatory_Networks/session_2/\")\n",
    "######## bring out the packages to the working environment.\n",
    "library(SCENIC)\n",
    "library(AUCell)\n",
    "library(RcisTarget)\n",
    "library(SCopeLoomR)\n",
    "loomPath <- \"data/mouseBrain_toy.loom\"\n",
    "loom <- open_loom(loomPath, mode=\"r\")\n",
    "exprMat <- get_dgem(loom)"
   ]
  },
  {
   "cell_type": "code",
   "execution_count": null,
   "metadata": {},
   "outputs": [],
   "source": [
    "class(exprMat)\n",
    "exprMat[1:5,1:5]\n",
    "hist(log10(rowMeans(exprMat)+1))"
   ]
  },
  {
   "cell_type": "code",
   "execution_count": null,
   "metadata": {},
   "outputs": [],
   "source": [
    "cellInfo <- get_cellAnnotation(loom)\n",
    "head(cellInfo)\n",
    "close_loom(loom)"
   ]
  },
  {
   "cell_type": "code",
   "execution_count": null,
   "metadata": {},
   "outputs": [],
   "source": [
    "#############################################################\n",
    "### scenicOptions works like a manager throughout the run to store results and give direction\n",
    "### as to which location to save the results. \n",
    "################"
   ]
  },
  {
   "cell_type": "code",
   "execution_count": null,
   "metadata": {},
   "outputs": [],
   "source": [
    "################\n",
    "## the data base folder is on the server /home/bcbb_teaching_files/zhuy/cisTarget_databases  \n",
    "################\n",
    "scenicOptions <- initializeScenic(org=\"mgi\", dbDir=\"./cisTarget_databases\", nCores=10)\n",
    "#### scenicOption is a S4 object to store all the variable and folder names, \n",
    "#### the internal structure is shown on slide. \n",
    "scenicOptions@inputDatasetInfo$cellInfo <- \"int/cellInfo.Rds\"\n",
    "saveRDS(scenicOptions, file=\"int/scenicOptions.Rds\") \n",
    "################ a gene has to be detected in at least 3% of cell population.\n",
    "genesKept <- geneFiltering(exprMat, scenicOptions)\n",
    "?geneFiltering()"
   ]
  },
  {
   "cell_type": "code",
   "execution_count": null,
   "metadata": {},
   "outputs": [],
   "source": [
    "#### subset for genes to keep\n",
    "exprMat_filtered <- exprMat[genesKept, ]\n",
    "#write.csv(exprMat_filtered,\"exprMat_filtered.csv\")\n",
    "nrow(exprMat)\n",
    "ncol(exprMat_filtered)\n",
    "nrow(exprMat_filtered)\n",
    "###################################### run spearman correlation to find positive vs negative \n",
    "### correlations, this will be used in the runScenic2 step. "
   ]
  },
  {
   "cell_type": "code",
   "execution_count": null,
   "metadata": {},
   "outputs": [],
   "source": [
    "runCorrelation(exprMat_filtered, scenicOptions)\n",
    "# corrMat                           \"int/1.2_corrMat.Rds\"\n",
    "x=readRDS(\"int/1.2_corrMat.Rds\")\n",
    "class(x)\n",
    "x[1:5,1:5]\n",
    "?runCorrelation()\n",
    "################################################################# run GENIE3 and check output\n",
    "### run on log transformed data. and save data in linkList, this is the consolidated ranking for \n",
    "### all the interactions as discussed in PPT."
   ]
  },
  {
   "cell_type": "code",
   "execution_count": null,
   "metadata": {},
   "outputs": [],
   "source": [
    "exprMat_filtered_log <- log2(exprMat_filtered+1) \n",
    "## take 1 minutes to run\n",
    "runGenie3(exprMat_filtered_log, scenicOptions)"
   ]
  },
  {
   "cell_type": "code",
   "execution_count": null,
   "metadata": {},
   "outputs": [],
   "source": [
    "# ?runGenie3()\n",
    "# genie3wm                          \"int/1.3_GENIE3_weightMatrix.Rds\"              \n",
    "# genie3ll                          \"int/1.4_GENIE3_linkList.Rds\"   "
   ]
  },
  {
   "cell_type": "code",
   "execution_count": null,
   "metadata": {},
   "outputs": [],
   "source": [
    "################## this is important to show the integrated interaction ranking of all the TF-targets. \n",
    "x=readRDS(\"int/1.4_GENIE3_linkList.Rds\")\n",
    "str(x)\n",
    "head(x)"
   ]
  },
  {
   "cell_type": "code",
   "execution_count": null,
   "metadata": {},
   "outputs": [],
   "source": [
    "runSCENIC_1_coexNetwork2modules(scenicOptions)\n",
    "?runSCENIC_1_coexNetwork2modules()"
   ]
  },
  {
   "cell_type": "code",
   "execution_count": null,
   "metadata": {},
   "outputs": [],
   "source": [
    "##################################################################\n",
    "## this step takes 2 minutes, it runs cisTarget to find out the top confident upstream TFBSs. \n",
    "scenicOptions@settings$dbs <- scenicOptions@settings$dbs[\"10kb\"] # Toy run settings\n",
    "runSCENIC_2_createRegulons(scenicOptions, coexMethod=c(\"top5perTarget\")) # Toy run settings"
   ]
  },
  {
   "cell_type": "code",
   "execution_count": null,
   "metadata": {
    "lines_to_next_cell": 0
   },
   "outputs": [],
   "source": [
    "?runSCENIC_2_createRegulons()\n",
    "# Step 2: RcisTarget (prune co-expression modules using TF-motif enrichment analysis)"
   ]
  },
  {
   "cell_type": "markdown",
   "metadata": {
    "lines_to_next_cell": 0
   },
   "source": [
    "minGenes\tMinimum size of co-expression gene set (default: 20 genes)"
   ]
  },
  {
   "cell_type": "code",
   "execution_count": null,
   "metadata": {},
   "outputs": [],
   "source": [
    "x=readRDS(\"int/2.1_tfModules_forMotifEnrichmet.Rds\")\n",
    "x=readRDS(\"int/2.5_regulonTargetsInfo.Rds\")\n",
    "str(x)\n",
    "head(x)\n",
    "colnames(x)\n",
    "#[1] \"TF\"            \"gene\"          \"nMotifs\"       \"bestMotif\"     \"NES\"           \"highConfAnnot\" \"Genie3Weight\" \n",
    "unique(x[,1])"
   ]
  },
  {
   "cell_type": "code",
   "execution_count": null,
   "metadata": {},
   "outputs": [],
   "source": [
    "####### you can rank the confident interaction based on Genie3Weight as well.\n",
    "y=x[order(x$Genie3Weight,decreasing = T),]\n",
    "head(y)\n",
    "###############################################################\n",
    "runSCENIC_3_scoreCells(scenicOptions, exprMat_filtered_log)\n",
    "runSCENIC_4_aucell_binarize(scenicOptions)\n",
    "### Exploring output \n",
    "# Check files in folder 'output'\n",
    "# .loom file @ http://scope.aertslab.org\n",
    "# output/Step2_MotifEnrichment_preview.html in detail/subset:"
   ]
  },
  {
   "cell_type": "code",
   "execution_count": null,
   "metadata": {
    "lines_to_next_cell": 2
   },
   "outputs": [],
   "source": [
    "###############################################################\n",
    "#### other functions to explore.\n",
    "motifEnrichment_selfMotifs_wGenes <- loadInt(scenicOptions, \"motifEnrichment_selfMotifs_wGenes\")\n",
    "tableSubset <- motifEnrichment_selfMotifs_wGenes[highlightedTFs==\"Sox8\"]\n",
    "viewMotifs(tableSubset) \n",
    "# output/Step2_regulonTargetsInfo.tsv in detail: \n",
    "regulonTargetsInfo <- loadInt(scenicOptions, \"regulonTargetsInfo\")\n",
    "tableSubset <- regulonTargetsInfo[TF==\"Stat6\" & highConfAnnot==TRUE]\n",
    "viewMotifs(tableSubset) "
   ]
  }
 ],
 "metadata": {
  "jupytext": {
   "cell_metadata_filter": "-all",
   "notebook_metadata_filter": "-all",
   "text_representation": {
    "extension": ".R",
    "format_name": "spin"
   }
  },
  "kernelspec": {
   "display_name": "R",
   "language": "R",
   "name": "ir"
  },
  "language_info": {
   "codemirror_mode": "r",
   "file_extension": ".r",
   "mimetype": "text/x-r-source",
   "name": "R",
   "pygments_lexer": "r",
   "version": "3.6.0"
  }
 },
 "nbformat": 4,
 "nbformat_minor": 4
}
