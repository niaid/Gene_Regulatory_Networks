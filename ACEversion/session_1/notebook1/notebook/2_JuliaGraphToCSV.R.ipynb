{
 "cells": [
  {
   "cell_type": "code",
   "execution_count": null,
   "metadata": {},
   "outputs": [],
   "source": [
    "getwd()\n",
    "setwd(\"~/GRN/Gene_Regulatory_Networks/session_1/notebook/\")\n",
    "genes=read.csv(\"../data/2_JULIA/genesJulia.csv\",header = T,row.names = 1)\n",
    "str(genes)\n",
    "head(genes)\n",
    "#fix(genes)\n",
    "g=read.table(\"../data/2_JULIA/graphJulia.csv\",header = T,row.names = 1)\n",
    "g=read.csv(\"../data/2_JULIA/graphJulia.csv\",sep=\",\")\n",
    "str(g)\n",
    "#fix(g)\n",
    "g=g[,c(1,2)]\n",
    "colnames(g)=c(\"from\",\"to\")\n",
    "#fix(g)"
   ]
  },
  {
   "cell_type": "code",
   "execution_count": null,
   "metadata": {
    "lines_to_next_cell": 2
   },
   "outputs": [],
   "source": [
    "length(unique(g[,1]))\n",
    "length(unique(g[,2]))"
   ]
  },
  {
   "cell_type": "code",
   "execution_count": null,
   "metadata": {},
   "outputs": [],
   "source": [
    "source(\"../notebook/2_lookuptable.R\")\n",
    "# get_value=function(mykey, mylookupvector=MLV){\n",
    "#   myvalue=mylookupvector[mykey]\n",
    "#   myvalue=unname(myvalue)\n",
    "#   return(myvalue)\n",
    "# }\n",
    "# \n",
    "# function(keyvector){\n",
    "#   values=sapply(keyvector,get_value)\n",
    "#   return(values)\n",
    "# }\n",
    "# \n",
    "# MLV=c(\"Sox1\",\"Sox2\",\"Sox3\",\"Sox4\",\"Sox5\",\"Sox6\",\"Sox7\",\"Sox8\")\n",
    "# names(MLV)=c(1,2,3,4,5,6,7,8)\n",
    "# sapply(c(1,2,3),get_value)"
   ]
  },
  {
   "cell_type": "code",
   "execution_count": null,
   "metadata": {
    "lines_to_next_cell": 2
   },
   "outputs": [],
   "source": [
    "MLV=rownames(genes)\n",
    "names(MLV)=c(1:length(MLV))\n",
    "gn=g\n",
    "gn[,1]=sapply(g[,1],get_value)\n",
    "gn[,2]=sapply(g[,2],get_value)\n",
    "#fix(gn)\n",
    "write.csv(gn,\"../data/2_JULIA/JuliaNet.csv\")"
   ]
  }
 ],
 "metadata": {
  "jupytext": {
   "cell_metadata_filter": "-all",
   "notebook_metadata_filter": "-all",
   "text_representation": {
    "extension": ".R",
    "format_name": "light"
   }
  },
  "kernelspec": {
   "display_name": "R",
   "language": "R",
   "name": "ir"
  },
  "language_info": {
   "codemirror_mode": "r",
   "file_extension": ".r",
   "mimetype": "text/x-r-source",
   "name": "R",
   "pygments_lexer": "r",
   "version": "3.6.0"
  }
 },
 "nbformat": 4,
 "nbformat_minor": 4
}
