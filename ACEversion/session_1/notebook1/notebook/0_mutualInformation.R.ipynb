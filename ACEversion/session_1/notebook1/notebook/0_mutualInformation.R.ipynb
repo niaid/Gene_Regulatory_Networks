{
 "cells": [
  {
   "cell_type": "code",
   "execution_count": null,
   "metadata": {},
   "outputs": [],
   "source": [
    "#install.packages(\"infotheo\")\n",
    "library(infotheo)"
   ]
  },
  {
   "cell_type": "code",
   "execution_count": null,
   "metadata": {},
   "outputs": [],
   "source": [
    "X=c(4,3,4,3,4,3,4)\n",
    "Y=c(1,2,3,4,5,6,7)"
   ]
  },
  {
   "cell_type": "code",
   "execution_count": null,
   "metadata": {},
   "outputs": [],
   "source": [
    "# X=c(4,5,6,7,8,9,10)\n",
    "# X=c(1,2,3,4,5,6,7)\n",
    "# Y=c(1,2,3,4,5,6,7)\n",
    "entropy(X)\n",
    "entropy(Y)\n",
    "mutinformation(X,Y)\n",
    "plot(X,Y, ylim = c(0,10),xlim = c(0,10),pch=19)\n",
    "#install.packages(\"eulerr\")\n",
    "library(eulerr)\n",
    "### please realize that areas in this drawing are not proportional to the numbers. \n",
    "fit <- euler(c(A = entropy(X), B = entropy(Y), \"A&B\" = mutinformation(X,Y)))\n",
    "plot(fit)"
   ]
  }
 ],
 "metadata": {
  "jupytext": {
   "cell_metadata_filter": "-all",
   "notebook_metadata_filter": "-all",
   "text_representation": {
    "extension": ".R",
    "format_name": "light"
   }
  },
  "kernelspec": {
   "display_name": "R",
   "language": "R",
   "name": "ir"
  },
  "language_info": {
   "codemirror_mode": "r",
   "file_extension": ".r",
   "mimetype": "text/x-r-source",
   "name": "R",
   "pygments_lexer": "r",
   "version": "3.6.0"
  }
 },
 "nbformat": 4,
 "nbformat_minor": 4
}
