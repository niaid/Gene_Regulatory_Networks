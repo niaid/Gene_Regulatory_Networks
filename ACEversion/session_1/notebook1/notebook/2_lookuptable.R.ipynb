{
 "cells": [
  {
   "cell_type": "code",
   "execution_count": null,
   "metadata": {},
   "outputs": [],
   "source": [
    "get_value=function(mykey, mylookupvector=MLV){\n",
    "  myvalue=mylookupvector[mykey]\n",
    "  myvalue=unname(myvalue)\n",
    "  return(myvalue)\n",
    "}"
   ]
  },
  {
   "cell_type": "code",
   "execution_count": null,
   "metadata": {},
   "outputs": [],
   "source": [
    "function(keyvector){\n",
    "values=sapply(keyvector,get_value)\n",
    "return(values)\n",
    "}"
   ]
  },
  {
   "cell_type": "code",
   "execution_count": null,
   "metadata": {},
   "outputs": [],
   "source": [
    "MLV=c(\"Sox1\",\"Sox2\",\"Sox3\",\"Sox4\",\"Sox5\",\"Sox6\",\"Sox7\",\"Sox8\")\n",
    "names(MLV)=c(1,2,3,4,5,6,7,8)\n",
    "sapply(c(1,2,3),get_value)"
   ]
  }
 ],
 "metadata": {
  "jupytext": {
   "cell_metadata_filter": "-all",
   "notebook_metadata_filter": "-all",
   "text_representation": {
    "extension": ".R",
    "format_name": "light"
   }
  },
  "kernelspec": {
   "display_name": "R",
   "language": "R",
   "name": "ir"
  },
  "language_info": {
   "codemirror_mode": "r",
   "file_extension": ".r",
   "mimetype": "text/x-r-source",
   "name": "R",
   "pygments_lexer": "r",
   "version": "3.6.0"
  }
 },
 "nbformat": 4,
 "nbformat_minor": 4
}
